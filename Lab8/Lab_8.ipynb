{
  "nbformat": 4,
  "nbformat_minor": 0,
  "metadata": {
    "colab": {
      "name": "Lab_8.ipynb",
      "provenance": [],
      "collapsed_sections": [],
      "include_colab_link": true
    },
    "kernelspec": {
      "name": "python3",
      "display_name": "Python 3"
    },
    "language_info": {
      "name": "python"
    }
  },
  "cells": [
    {
      "cell_type": "markdown",
      "metadata": {
        "id": "view-in-github",
        "colab_type": "text"
      },
      "source": [
        "<a href=\"https://colab.research.google.com/github/VishalDalwadi/027_VishalDalwadi/blob/main/Lab8/Lab_8.ipynb\" target=\"_parent\"><img src=\"https://colab.research.google.com/assets/colab-badge.svg\" alt=\"Open In Colab\"/></a>"
      ]
    },
    {
      "cell_type": "markdown",
      "metadata": {
        "id": "a2jsxXj6uvVf"
      },
      "source": [
        "## Aim: Write a python program to perform K-Means clustering on Breast Cancer Data"
      ]
    },
    {
      "cell_type": "code",
      "metadata": {
        "id": "EGiAzgm4nqAw"
      },
      "source": [
        "import numpy as np \n",
        "import pandas as pd \n",
        "from sklearn import datasets\n",
        "from sklearn.cluster import KMeans"
      ],
      "execution_count": 8,
      "outputs": []
    },
    {
      "cell_type": "code",
      "metadata": {
        "colab": {
          "base_uri": "https://localhost:8080/"
        },
        "id": "8vsXsbIUnzWx",
        "outputId": "19220c7d-f777-4926-8d43-cdcbf3665222"
      },
      "source": [
        "dataset = datasets.load_breast_cancer()\n",
        "print(dataset.feature_names)\n",
        "print(dataset.target_names)\n",
        "print(dataset.data.shape)\n",
        "print(dataset.target.shape)"
      ],
      "execution_count": 9,
      "outputs": [
        {
          "output_type": "stream",
          "name": "stdout",
          "text": [
            "['mean radius' 'mean texture' 'mean perimeter' 'mean area'\n",
            " 'mean smoothness' 'mean compactness' 'mean concavity'\n",
            " 'mean concave points' 'mean symmetry' 'mean fractal dimension'\n",
            " 'radius error' 'texture error' 'perimeter error' 'area error'\n",
            " 'smoothness error' 'compactness error' 'concavity error'\n",
            " 'concave points error' 'symmetry error' 'fractal dimension error'\n",
            " 'worst radius' 'worst texture' 'worst perimeter' 'worst area'\n",
            " 'worst smoothness' 'worst compactness' 'worst concavity'\n",
            " 'worst concave points' 'worst symmetry' 'worst fractal dimension']\n",
            "['malignant' 'benign']\n",
            "(569, 30)\n",
            "(569,)\n"
          ]
        }
      ]
    },
    {
      "cell_type": "code",
      "metadata": {
        "colab": {
          "base_uri": "https://localhost:8080/"
        },
        "id": "WW2mN0b6vTyR",
        "outputId": "74c216fd-e394-4831-8774-ccac5eebea5b"
      },
      "source": [
        "kmeans = KMeans(n_clusters=10, random_state=27)\n",
        "prediction = kmeans.fit_predict(dataset.data)\n",
        "print(prediction)\n",
        "\n",
        "kmeans.cluster_centers_.shape"
      ],
      "execution_count": 10,
      "outputs": [
        {
          "output_type": "stream",
          "name": "stdout",
          "text": [
            "[1 1 5 0 5 3 5 3 3 3 8 4 4 8 3 8 8 4 6 3 0 7 8 6 1 4 3 4 4 4 5 3 4 1 4 4 3\n",
            " 0 3 3 3 0 5 3 3 5 7 3 0 3 0 3 0 4 8 0 1 8 0 7 7 7 8 7 3 8 7 0 7 0 1 7 5 3\n",
            " 0 4 0 5 5 0 0 0 2 4 0 5 3 5 0 3 3 3 3 3 8 1 0 7 0 3 3 7 0 7 7 3 0 0 6 0 7\n",
            " 0 3 7 7 0 7 8 4 4 0 5 6 3 0 3 3 5 3 5 0 8 4 8 5 0 0 0 8 7 7 4 0 0 7 0 0 3\n",
            " 3 3 0 7 7 7 3 0 4 8 0 0 0 5 6 0 6 3 7 4 5 3 0 8 8 7 7 7 7 8 0 0 2 1 4 0 8\n",
            " 7 4 0 0 0 3 0 7 3 3 0 3 4 5 8 0 4 6 8 0 8 7 4 0 8 5 0 2 8 3 3 0 7 1 6 3 3\n",
            " 7 8 3 3 7 3 0 3 4 0 0 1 7 3 2 1 3 4 3 0 0 3 5 7 0 0 7 0 1 0 1 4 1 3 1 8 4\n",
            " 8 1 4 4 8 4 2 7 3 0 7 3 0 6 7 4 0 0 4 3 3 5 0 5 8 0 0 0 0 7 0 3 3 0 0 0 3\n",
            " 7 0 3 7 1 0 5 7 0 0 0 7 3 3 0 3 0 0 7 0 0 5 7 0 7 5 0 1 0 0 3 0 8 8 8 0 7\n",
            " 0 0 4 0 1 7 2 3 7 7 5 0 7 0 3 0 0 0 8 2 8 0 0 0 3 7 7 0 0 0 8 3 1 5 0 2 6\n",
            " 4 3 5 1 3 8 7 3 3 0 0 7 0 0 0 3 0 3 0 4 7 7 4 6 0 3 3 0 0 0 4 0 0 0 0 0 8\n",
            " 0 4 0 0 0 7 3 8 0 7 5 0 0 0 3 0 3 7 7 7 0 7 0 3 0 5 5 3 3 0 3 3 3 0 4 3 7\n",
            " 4 0 4 3 3 1 0 5 0 3 0 3 0 0 0 7 5 9 3 0 3 3 3 7 4 0 7 0 8 0 7 0 3 3 0 8 0\n",
            " 3 3 3 8 0 3 5 0 8 0 4 4 0 0 3 0 0 5 1 3 3 0 2 7 7 0 7 8 8 0 3 3 3 8 0 5 5\n",
            " 0 0 7 2 7 3 7 7 3 0 3 0 0 0 3 5 7 1 3 0 7 7 0 3 3 0 3 3 7 7 7 0 7 7 0 7 0\n",
            " 7 7 7 3 0 3 7 8 1 6 5 8 1 7]\n"
          ]
        },
        {
          "output_type": "execute_result",
          "data": {
            "text/plain": [
              "(10, 30)"
            ]
          },
          "metadata": {},
          "execution_count": 10
        }
      ]
    },
    {
      "cell_type": "code",
      "metadata": {
        "colab": {
          "base_uri": "https://localhost:8080/",
          "height": 275
        },
        "id": "51jNejsMv9q1",
        "outputId": "ed71eb70-24ac-4bb6-80d7-6553e1c89d6b"
      },
      "source": [
        "# Scatter plot of the data points\n",
        "import matplotlib.pyplot as plt\n",
        "\n",
        "fig, ax = plt.subplots(2, 5, figsize=(8, 5))\n",
        "centers = kmeans.cluster_centers_.reshape(10, 6, 5)\n",
        "\n",
        "for axi, center in zip(ax.flat, centers):\n",
        "  axi.set(xticks=[], yticks=[])\n",
        "  axi.imshow(center, interpolation='nearest', cmap=plt.cm.binary)"
      ],
      "execution_count": 11,
      "outputs": [
        {
          "output_type": "display_data",
          "data": {
            "image/png": "[encoded data removed]",
            "text/plain": [
              "<Figure size 576x360 with 10 Axes>"
            ]
          },
          "metadata": {}
        }
      ]
    },
    {
      "cell_type": "code",
      "metadata": {
        "id": "7CyqpiPnwJgE"
      },
      "source": [
        "import numpy as np\n",
        "from scipy.stats import mode\n",
        "labels = np.zeros_like(prediction)\n",
        "for i in range(10):\n",
        "  mask = (prediction == i)\n",
        "  labels[mask] = mode(dataset.target[mask])[0]"
      ],
      "execution_count": 12,
      "outputs": []
    },
    {
      "cell_type": "code",
      "metadata": {
        "colab": {
          "base_uri": "https://localhost:8080/"
        },
        "id": "S6X00IB_wL-j",
        "outputId": "154bbf66-b178-44b7-bfc6-90f8c024c9fa"
      },
      "source": [
        "from sklearn.metrics import accuracy_score\n",
        "accuracy_score(dataset.target, labels)"
      ],
      "execution_count": 13,
      "outputs": [
        {
          "output_type": "execute_result",
          "data": {
            "text/plain": [
              "0.9086115992970123"
            ]
          },
          "metadata": {},
          "execution_count": 13
        }
      ]
    },
    {
      "cell_type": "code",
      "metadata": {
        "colab": {
          "base_uri": "https://localhost:8080/",
          "height": 279
        },
        "id": "Qbn5pOwFwPHy",
        "outputId": "fada34d3-73ab-4dcc-f898-c56e802c2b67"
      },
      "source": [
        "from sklearn.metrics import confusion_matrix\n",
        "import seaborn as sns\n",
        "\n",
        "mat = confusion_matrix(dataset.target, labels)\n",
        "ax = sns.heatmap(mat.T, square=True, annot=True, fmt='d', cbar=False,xticklabels=dataset.target_names,yticklabels=dataset.target_names)\n",
        "\n",
        "plt.xlabel('true label')\n",
        "plt.ylabel('predicted label');"
      ],
      "execution_count": 14,
      "outputs": [
        {
          "output_type": "display_data",
          "data": {
            "image/png": "[encoded data removed]",
            "text/plain": [
              "<Figure size 432x288 with 1 Axes>"
            ]
          },
          "metadata": {
            "needs_background": "light"
          }
        }
      ]
    }
  ]
}