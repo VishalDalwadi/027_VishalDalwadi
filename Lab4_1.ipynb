{
  "nbformat": 4,
  "nbformat_minor": 0,
  "metadata": {
    "colab": {
      "name": "Lab4_1.ipynb",
      "provenance": [],
      "authorship_tag": "ABX9TyO0GyPjYJS9hMRvojvoXCfd",
      "include_colab_link": true
    },
    "kernelspec": {
      "name": "python3",
      "display_name": "Python 3"
    },
    "language_info": {
      "name": "python"
    }
  },
  "cells": [
    {
      "cell_type": "markdown",
      "metadata": {
        "id": "view-in-github",
        "colab_type": "text"
      },
      "source": [
        "<a href=\"https://colab.research.google.com/github/VishalDalwadi/027_VishalDalwadi/blob/main/Lab4_1.ipynb\" target=\"_parent\"><img src=\"https://colab.research.google.com/assets/colab-badge.svg\" alt=\"Open In Colab\"/></a>"
      ]
    },
    {
      "cell_type": "code",
      "metadata": {
        "id": "V-3q5wWci_0-"
      },
      "source": [
        "from sklearn import datasets\n",
        "from sklearn.tree import DecisionTreeClassifier\n",
        "import pandas as pd\n",
        "import numpy as np"
      ],
      "execution_count": 1,
      "outputs": []
    },
    {
      "cell_type": "code",
      "metadata": {
        "colab": {
          "base_uri": "https://localhost:8080/"
        },
        "id": "Qa6AnhykjKNW",
        "outputId": "05ba6c7c-377d-444b-cb0b-9ccc08387b02"
      },
      "source": [
        "digits = datasets.load_digits()\n",
        "print(digits)\n",
        "\n",
        "print(digits.data.shape)\n",
        "print(digits.target.shape)"
      ],
      "execution_count": 3,
      "outputs": [
        {
          "output_type": "stream",
          "name": "stdout",
          "text": [
            "{'data': array([[ 0.,  0.,  5., ...,  0.,  0.,  0.],\n",
            "       [ 0.,  0.,  0., ..., 10.,  0.,  0.],\n",
            "       [ 0.,  0.,  0., ..., 16.,  9.,  0.],\n",
            "       ...,\n",
            "       [ 0.,  0.,  1., ...,  6.,  0.,  0.],\n",
            "       [ 0.,  0.,  2., ..., 12.,  0.,  0.],\n",
            "       [ 0.,  0., 10., ..., 12.,  1.,  0.]]), 'target': array([0, 1, 2, ..., 8, 9, 8]), 'target_names': array([0, 1, 2, 3, 4, 5, 6, 7, 8, 9]), 'images': array([[[ 0.,  0.,  5., ...,  1.,  0.,  0.],\n",
            "        [ 0.,  0., 13., ..., 15.,  5.,  0.],\n",
            "        [ 0.,  3., 15., ..., 11.,  8.,  0.],\n",
            "        ...,\n",
            "        [ 0.,  4., 11., ..., 12.,  7.,  0.],\n",
            "        [ 0.,  2., 14., ..., 12.,  0.,  0.],\n",
            "        [ 0.,  0.,  6., ...,  0.,  0.,  0.]],\n",
            "\n",
            "       [[ 0.,  0.,  0., ...,  5.,  0.,  0.],\n",
            "        [ 0.,  0.,  0., ...,  9.,  0.,  0.],\n",
            "        [ 0.,  0.,  3., ...,  6.,  0.,  0.],\n",
            "        ...,\n",
            "        [ 0.,  0.,  1., ...,  6.,  0.,  0.],\n",
            "        [ 0.,  0.,  1., ...,  6.,  0.,  0.],\n",
            "        [ 0.,  0.,  0., ..., 10.,  0.,  0.]],\n",
            "\n",
            "       [[ 0.,  0.,  0., ..., 12.,  0.,  0.],\n",
            "        [ 0.,  0.,  3., ..., 14.,  0.,  0.],\n",
            "        [ 0.,  0.,  8., ..., 16.,  0.,  0.],\n",
            "        ...,\n",
            "        [ 0.,  9., 16., ...,  0.,  0.,  0.],\n",
            "        [ 0.,  3., 13., ..., 11.,  5.,  0.],\n",
            "        [ 0.,  0.,  0., ..., 16.,  9.,  0.]],\n",
            "\n",
            "       ...,\n",
            "\n",
            "       [[ 0.,  0.,  1., ...,  1.,  0.,  0.],\n",
            "        [ 0.,  0., 13., ...,  2.,  1.,  0.],\n",
            "        [ 0.,  0., 16., ..., 16.,  5.,  0.],\n",
            "        ...,\n",
            "        [ 0.,  0., 16., ..., 15.,  0.,  0.],\n",
            "        [ 0.,  0., 15., ..., 16.,  0.,  0.],\n",
            "        [ 0.,  0.,  2., ...,  6.,  0.,  0.]],\n",
            "\n",
            "       [[ 0.,  0.,  2., ...,  0.,  0.,  0.],\n",
            "        [ 0.,  0., 14., ..., 15.,  1.,  0.],\n",
            "        [ 0.,  4., 16., ..., 16.,  7.,  0.],\n",
            "        ...,\n",
            "        [ 0.,  0.,  0., ..., 16.,  2.,  0.],\n",
            "        [ 0.,  0.,  4., ..., 16.,  2.,  0.],\n",
            "        [ 0.,  0.,  5., ..., 12.,  0.,  0.]],\n",
            "\n",
            "       [[ 0.,  0., 10., ...,  1.,  0.,  0.],\n",
            "        [ 0.,  2., 16., ...,  1.,  0.,  0.],\n",
            "        [ 0.,  0., 15., ..., 15.,  0.,  0.],\n",
            "        ...,\n",
            "        [ 0.,  4., 16., ..., 16.,  6.,  0.],\n",
            "        [ 0.,  8., 16., ..., 16.,  8.,  0.],\n",
            "        [ 0.,  1.,  8., ..., 12.,  1.,  0.]]]), 'DESCR': \".. _digits_dataset:\\n\\nOptical recognition of handwritten digits dataset\\n--------------------------------------------------\\n\\n**Data Set Characteristics:**\\n\\n    :Number of Instances: 5620\\n    :Number of Attributes: 64\\n    :Attribute Information: 8x8 image of integer pixels in the range 0..16.\\n    :Missing Attribute Values: None\\n    :Creator: E. Alpaydin (alpaydin '@' boun.edu.tr)\\n    :Date: July; 1998\\n\\nThis is a copy of the test set of the UCI ML hand-written digits datasets\\nhttps://archive.ics.uci.edu/ml/datasets/Optical+Recognition+of+Handwritten+Digits\\n\\nThe data set contains images of hand-written digits: 10 classes where\\neach class refers to a digit.\\n\\nPreprocessing programs made available by NIST were used to extract\\nnormalized bitmaps of handwritten digits from a preprinted form. From a\\ntotal of 43 people, 30 contributed to the training set and different 13\\nto the test set. 32x32 bitmaps are divided into nonoverlapping blocks of\\n4x4 and the number of on pixels are counted in each block. This generates\\nan input matrix of 8x8 where each element is an integer in the range\\n0..16. This reduces dimensionality and gives invariance to small\\ndistortions.\\n\\nFor info on NIST preprocessing routines, see M. D. Garris, J. L. Blue, G.\\nT. Candela, D. L. Dimmick, J. Geist, P. J. Grother, S. A. Janet, and C.\\nL. Wilson, NIST Form-Based Handprint Recognition System, NISTIR 5469,\\n1994.\\n\\n.. topic:: References\\n\\n  - C. Kaynak (1995) Methods of Combining Multiple Classifiers and Their\\n    Applications to Handwritten Digit Recognition, MSc Thesis, Institute of\\n    Graduate Studies in Science and Engineering, Bogazici University.\\n  - E. Alpaydin, C. Kaynak (1998) Cascading Classifiers, Kybernetika.\\n  - Ken Tang and Ponnuthurai N. Suganthan and Xi Yao and A. Kai Qin.\\n    Linear dimensionalityreduction using relevance weighted LDA. School of\\n    Electrical and Electronic Engineering Nanyang Technological University.\\n    2005.\\n  - Claudio Gentile. A New Approximate Maximal Margin Classification\\n    Algorithm. NIPS. 2000.\"}\n",
            "(1797, 64)\n",
            "(1797,)\n"
          ]
        }
      ]
    },
    {
      "cell_type": "code",
      "metadata": {
        "id": "BCw8tCo4jOdC"
      },
      "source": [
        "from sklearn.model_selection import train_test_split\n",
        "\n",
        "X=digits.data\n",
        "Y=digits.target\n",
        "\n",
        "X_train, X_test, y_train, y_test = train_test_split(X, Y, test_size = 0.20, random_state = 27)"
      ],
      "execution_count": 6,
      "outputs": []
    },
    {
      "cell_type": "code",
      "metadata": {
        "colab": {
          "base_uri": "https://localhost:8080/"
        },
        "id": "ThuLNcUDjnpP",
        "outputId": "9a9016b4-1a1e-4d0d-b24d-e9c7aa4ae351"
      },
      "source": [
        "clf_gini = DecisionTreeClassifier(criterion = \"gini\", random_state = 27, max_depth=7, min_samples_leaf=27)\n",
        "\n",
        "clf_gini.fit(X_train, y_train)"
      ],
      "execution_count": 8,
      "outputs": [
        {
          "output_type": "execute_result",
          "data": {
            "text/plain": [
              "DecisionTreeClassifier(ccp_alpha=0.0, class_weight=None, criterion='gini',\n",
              "                       max_depth=7, max_features=None, max_leaf_nodes=None,\n",
              "                       min_impurity_decrease=0.0, min_impurity_split=None,\n",
              "                       min_samples_leaf=27, min_samples_split=2,\n",
              "                       min_weight_fraction_leaf=0.0, presort='deprecated',\n",
              "                       random_state=27, splitter='best')"
            ]
          },
          "metadata": {},
          "execution_count": 8
        }
      ]
    },
    {
      "cell_type": "code",
      "metadata": {
        "colab": {
          "base_uri": "https://localhost:8080/"
        },
        "id": "louHDvITjtgo",
        "outputId": "dc13ec73-cccf-4640-8287-6f78e08764d9"
      },
      "source": [
        "y_pred = clf_gini.predict(X_test)\n",
        "print(\"Predicted values:\", y_pred)"
      ],
      "execution_count": 11,
      "outputs": [
        {
          "output_type": "stream",
          "name": "stdout",
          "text": [
            "Predicted values: [4 2 1 2 0 9 4 9 9 9 1 4 9 9 1 4 5 0 6 5 9 3 7 3 9 8 6 4 0 7 9 7 3 8 1 3 1\n",
            " 9 6 8 0 3 2 2 0 0 5 7 5 0 0 5 9 0 4 2 6 3 5 4 6 5 9 1 9 7 9 9 3 6 6 7 2 4\n",
            " 2 3 7 5 3 7 3 8 4 5 5 7 4 8 4 5 3 5 4 2 5 1 2 3 5 0 5 7 5 3 1 6 6 3 4 6 0\n",
            " 8 4 1 4 6 1 0 5 1 5 6 1 4 1 1 4 2 4 2 6 0 3 8 5 5 9 9 4 3 6 2 5 8 2 1 5 4\n",
            " 2 8 3 5 6 3 9 5 6 9 0 4 9 9 5 2 4 0 2 6 4 2 2 0 3 2 5 2 2 0 2 9 0 4 2 0 4\n",
            " 5 4 9 7 6 4 2 8 5 6 4 5 7 0 0 0 5 5 4 4 9 8 1 3 9 5 8 0 3 4 1 3 5 2 3 4 1\n",
            " 3 6 6 6 9 3 3 6 0 0 0 4 7 6 8 4 6 8 2 7 7 9 2 2 5 9 3 0 3 0 8 6 7 5 3 4 1\n",
            " 3 8 8 4 2 2 9 1 8 8 5 9 6 4 3 3 4 1 5 0 3 3 0 5 2 5 8 6 3 9 9 7 9 5 3 1 5\n",
            " 7 0 5 2 3 4 6 2 3 1 0 4 3 2 0 8 7 7 5 1 2 1 3 7 7 8 1 6 5 2 9 4 2 8 1 5 5\n",
            " 9 1 1 4 8 0 3 5 0 8 1 4 4 2 4 8 3 3 2 0 9 7 0 8 1 5 3]\n"
          ]
        }
      ]
    },
    {
      "cell_type": "code",
      "metadata": {
        "colab": {
          "base_uri": "https://localhost:8080/"
        },
        "id": "wNCo14G_j16Y",
        "outputId": "4098d708-bbad-40fd-e4cb-bbbdaa1a4a71"
      },
      "source": [
        "from sklearn import metrics\n",
        "print(\"Confusion Matrix: \", metrics.confusion_matrix(y_test, y_pred))\n",
        "print(\"Accuracy : \", metrics.accuracy_score(y_test,y_pred)*100)\n",
        "print(\"Report : \", metrics.classification_report(y_test, y_pred))"
      ],
      "execution_count": 13,
      "outputs": [
        {
          "output_type": "stream",
          "name": "stdout",
          "text": [
            "Confusion Matrix:  [[32  0  0  0  0  0  0  0  0  0]\n",
            " [ 0 17  2  2  7  0  0  0  3  1]\n",
            " [ 0  2 26  3  0  0  0  1  1  0]\n",
            " [ 0  2  1 32  0  0  0  1  0  1]\n",
            " [ 2  2  0  0 30  5  0  0  1  0]\n",
            " [ 3  1  0  0  2 36  0  0  0  0]\n",
            " [ 0  0  3  0  5  1 30  0  0  0]\n",
            " [ 0  0  0  1  0  3  0 20  1  1]\n",
            " [ 0  5  7  2  0  0  0  1 20  5]\n",
            " [ 0  2  0  4  1  3  0  0  1 28]]\n",
            "Accuracy :  75.27777777777777\n",
            "Report :                precision    recall  f1-score   support\n",
            "\n",
            "           0       0.86      1.00      0.93        32\n",
            "           1       0.55      0.53      0.54        32\n",
            "           2       0.67      0.79      0.72        33\n",
            "           3       0.73      0.86      0.79        37\n",
            "           4       0.67      0.75      0.71        40\n",
            "           5       0.75      0.86      0.80        42\n",
            "           6       1.00      0.77      0.87        39\n",
            "           7       0.87      0.77      0.82        26\n",
            "           8       0.74      0.50      0.60        40\n",
            "           9       0.78      0.72      0.75        39\n",
            "\n",
            "    accuracy                           0.75       360\n",
            "   macro avg       0.76      0.75      0.75       360\n",
            "weighted avg       0.76      0.75      0.75       360\n",
            "\n"
          ]
        }
      ]
    },
    {
      "cell_type": "code",
      "metadata": {
        "id": "2tj-VtGdj-IA"
      },
      "source": [
        ""
      ],
      "execution_count": null,
      "outputs": []
    }
  ]
}