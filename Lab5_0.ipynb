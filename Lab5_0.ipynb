{
  "nbformat": 4,
  "nbformat_minor": 5,
  "metadata": {
    "kernelspec": {
      "display_name": "Python 3 (ipykernel)",
      "language": "python",
      "name": "python3"
    },
    "language_info": {
      "codemirror_mode": {
        "name": "ipython",
        "version": 3
      },
      "file_extension": ".py",
      "mimetype": "text/x-python",
      "name": "python",
      "nbconvert_exporter": "python",
      "pygments_lexer": "ipython3",
      "version": "3.9.7"
    },
    "colab": {
      "name": "Lab5_0.ipynb",
      "provenance": [],
      "include_colab_link": true
    }
  },
  "cells": [
    {
      "cell_type": "markdown",
      "metadata": {
        "id": "view-in-github",
        "colab_type": "text"
      },
      "source": [
        "<a href=\"https://colab.research.google.com/github/VishalDalwadi/027_VishalDalwadi/blob/main/Lab5_0.ipynb\" target=\"_parent\"><img src=\"https://colab.research.google.com/assets/colab-badge.svg\" alt=\"Open In Colab\"/></a>"
      ]
    },
    {
      "cell_type": "code",
      "metadata": {
        "id": "db963459-c72d-453d-8699-0dc38b81d114"
      },
      "source": [
        "import numpy as np\n",
        "from sklearn.datasets import load_boston   #for loading the toy datasets to check our code\n",
        "import matplotlib.pyplot as plt            #For ploting the graph for the better understanding of linear regression"
      ],
      "id": "db963459-c72d-453d-8699-0dc38b81d114",
      "execution_count": 1,
      "outputs": []
    },
    {
      "cell_type": "code",
      "metadata": {
        "colab": {
          "base_uri": "https://localhost:8080/"
        },
        "id": "f0a909f9-3e07-4b9a-9984-e7d2ef0850cc",
        "outputId": "ef75b9a9-efb8-4ac9-f9d4-9c2d56328962"
      },
      "source": [
        "#load_boston() returns the regression dataset\n",
        "dataset = load_boston()\n",
        "#dataset.data gives the features\n",
        "X = dataset.data\n",
        "#dataset.target gives the target values which we also called as the label for the dataset\n",
        "y = dataset.target[:,np.newaxis]\n",
        "\n",
        "print(\"Total samples in our dataset is: {}\".format(X.shape[0]))"
      ],
      "id": "f0a909f9-3e07-4b9a-9984-e7d2ef0850cc",
      "execution_count": 2,
      "outputs": [
        {
          "output_type": "stream",
          "name": "stdout",
          "text": [
            "Total samples in our dataset is: 506\n"
          ]
        }
      ]
    },
    {
      "cell_type": "code",
      "metadata": {
        "id": "4caa44a5-87b6-4d56-8cc9-717d9aaf867c"
      },
      "source": [
        "def compute_cost(X, y, params):\n",
        "    n_samples = len(y)\n",
        "    h = X @ params\n",
        "    return (1/(2*n_samples))*np.sum((h-y)**2)\n"
      ],
      "id": "4caa44a5-87b6-4d56-8cc9-717d9aaf867c",
      "execution_count": 3,
      "outputs": []
    },
    {
      "cell_type": "code",
      "metadata": {
        "id": "337bce6b-f85b-400d-9b98-968d3c089240"
      },
      "source": [
        "def gradient_descent(X, y, params, learning_rate, n_iters):\n",
        "    n_samples = len(y)\n",
        "    J_history = np.zeros((n_iters,1))\n",
        "\n",
        "    for i in range(n_iters):\n",
        "        params = params - (learning_rate/n_samples) * X.T @ (X @ params - y) \n",
        "        J_history[i] = compute_cost(X, y, params)\n",
        "\n",
        "    return (J_history, params)\n"
      ],
      "id": "337bce6b-f85b-400d-9b98-968d3c089240",
      "execution_count": 4,
      "outputs": []
    },
    {
      "cell_type": "code",
      "metadata": {
        "id": "6b3b73fc-565e-47d8-af3b-da13b20212fc"
      },
      "source": [
        "n_samples = len(y)\n",
        "\n",
        "mu = np.mean(X, 0)\n",
        "sigma = np.std(X, 0)\n",
        "\n",
        "X = (X-mu) / sigma\n",
        "\n",
        "X = np.hstack((np.ones((n_samples,1)),X))\n",
        "n_features = np.size(X,1)\n",
        "params = np.zeros((n_features,1))"
      ],
      "id": "6b3b73fc-565e-47d8-af3b-da13b20212fc",
      "execution_count": 5,
      "outputs": []
    },
    {
      "cell_type": "code",
      "metadata": {
        "colab": {
          "base_uri": "https://localhost:8080/"
        },
        "id": "426ee78f-36b9-4909-82fe-c3ef7004092b",
        "outputId": "fa366223-319f-4227-95f1-f4631e0390a5"
      },
      "source": [
        "n_iters = 1500\n",
        "learning_rate = 0.01\n",
        "\n",
        "initial_cost = compute_cost(X, y, params)\n",
        "\n",
        "print(\"Initial cost is: \", initial_cost, \"\\n\")\n",
        "\n",
        "(J_history, optimal_params) = gradient_descent(X, y, params, learning_rate, n_iters)\n",
        "\n",
        "print(\"Optimal parameters are: \\n\", optimal_params, \"\\n\")\n",
        "\n",
        "print(\"Final cost is: \", J_history[-1])"
      ],
      "id": "426ee78f-36b9-4909-82fe-c3ef7004092b",
      "execution_count": 6,
      "outputs": [
        {
          "output_type": "stream",
          "name": "stdout",
          "text": [
            "Initial cost is:  296.0734584980237 \n",
            "\n",
            "Optimal parameters are: \n",
            " [[22.53279993]\n",
            " [-0.83980839]\n",
            " [ 0.92612237]\n",
            " [-0.17541988]\n",
            " [ 0.72676226]\n",
            " [-1.82369448]\n",
            " [ 2.78447498]\n",
            " [-0.05650494]\n",
            " [-2.96695543]\n",
            " [ 1.80785186]\n",
            " [-1.1802415 ]\n",
            " [-1.99990382]\n",
            " [ 0.85595908]\n",
            " [-3.69524414]] \n",
            "\n",
            "Final cost is:  [11.00713381]\n"
          ]
        }
      ]
    },
    {
      "cell_type": "code",
      "metadata": {
        "colab": {
          "base_uri": "https://localhost:8080/",
          "height": 295
        },
        "id": "34004987-c9c4-40b7-9478-87c636d66f0f",
        "outputId": "2ccb5d45-dbce-41b2-b9a1-4b88d55193a2"
      },
      "source": [
        "plt.plot(range(len(J_history)), J_history, 'r')\n",
        "\n",
        "plt.title(\"Convergence Graph of Cost Function\")\n",
        "plt.xlabel(\"Number of Iterations\")\n",
        "plt.ylabel(\"Cost\")\n",
        "plt.show()"
      ],
      "id": "34004987-c9c4-40b7-9478-87c636d66f0f",
      "execution_count": 7,
      "outputs": [
        {
          "output_type": "display_data",
          "data": {
            "image/png": "[encoded data removed]",
            "text/plain": [
              "<Figure size 432x288 with 1 Axes>"
            ]
          },
          "metadata": {
            "needs_background": "light"
          }
        }
      ]
    },
    {
      "cell_type": "code",
      "metadata": {
        "id": "c5f06c95-260b-43af-9427-818b795e59fc"
      },
      "source": [
        ""
      ],
      "id": "c5f06c95-260b-43af-9427-818b795e59fc",
      "execution_count": 7,
      "outputs": []
    }
  ]
}