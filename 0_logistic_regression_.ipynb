{
  "nbformat": 4,
  "nbformat_minor": 0,
  "metadata": {
    "colab": {
      "name": "0_logistic_regression_.ipynb",
      "provenance": [],
      "include_colab_link": true
    },
    "kernelspec": {
      "display_name": "Python 3 (ipykernel)",
      "language": "python",
      "name": "python3"
    },
    "language_info": {
      "codemirror_mode": {
        "name": "ipython",
        "version": 3
      },
      "file_extension": ".py",
      "mimetype": "text/x-python",
      "name": "python",
      "nbconvert_exporter": "python",
      "pygments_lexer": "ipython3",
      "version": "3.9.7"
    }
  },
  "cells": [
    {
      "cell_type": "markdown",
      "metadata": {
        "id": "view-in-github",
        "colab_type": "text"
      },
      "source": [
        "<a href=\"https://colab.research.google.com/github/VishalDalwadi/027_VishalDalwadi/blob/main/0_logistic_regression_.ipynb\" target=\"_parent\"><img src=\"https://colab.research.google.com/assets/colab-badge.svg\" alt=\"Open In Colab\"/></a>"
      ]
    },
    {
      "cell_type": "code",
      "metadata": {
        "_cell_guid": "b1076dfc-b9ad-4769-8c92-a6c4dae69d19",
        "_uuid": "8f2839f25d086af736a60e9eeb907d3b93b6e0e5",
        "id": "hfV503AtcBDp"
      },
      "source": [
        "#Importing libraries\n",
        "import numpy as np \n",
        "import pandas as pd \n",
        "import io\n",
        "import matplotlib.pyplot as plt"
      ],
      "execution_count": 26,
      "outputs": []
    },
    {
      "cell_type": "code",
      "metadata": {
        "colab": {
          "base_uri": "https://localhost:8080/"
        },
        "id": "74P68822m1vR",
        "outputId": "7c18c761-51e2-412e-f20e-3ca5e0b75ec5"
      },
      "source": [
        "from google.colab import drive\n",
        "\n",
        "drive.mount('/content/drive')"
      ],
      "execution_count": 27,
      "outputs": [
        {
          "output_type": "stream",
          "name": "stdout",
          "text": [
            "Drive already mounted at /content/drive; to attempt to forcibly remount, call drive.mount(\"/content/drive\", force_remount=True).\n"
          ]
        }
      ]
    },
    {
      "cell_type": "code",
      "metadata": {
        "_cell_guid": "79c7e3d0-c299-4dcb-8224-4455121ee9b0",
        "_uuid": "d629ff2d2480ee46fbb7e2d37f6b5fab8052498a",
        "colab": {
          "base_uri": "https://localhost:8080/"
        },
        "id": "Y4rK9ffYcBEP",
        "outputId": "3db75a5a-d88f-44fb-fe97-e0fa6e0f988b"
      },
      "source": [
        "# reading the csv file, del 2 columns from the file, checking first few rows of the file\n",
        "data = pd.read_csv('/content/drive/MyDrive/ML_Labs/Lab6/BuyComputer.csv')\n",
        "\n",
        "data.drop(columns=['User ID',],axis=1,inplace=True)\n",
        "data.head()\n",
        "print(data)"
      ],
      "execution_count": 28,
      "outputs": [
        {
          "output_type": "stream",
          "name": "stdout",
          "text": [
            "     Age  EstimatedSalary  Purchased\n",
            "0     19            19000          0\n",
            "1     35            20000          0\n",
            "2     26            43000          0\n",
            "3     27            57000          0\n",
            "4     19            76000          0\n",
            "..   ...              ...        ...\n",
            "395   46            41000          1\n",
            "396   51            23000          1\n",
            "397   50            20000          1\n",
            "398   36            33000          0\n",
            "399   49            36000          1\n",
            "\n",
            "[400 rows x 3 columns]\n"
          ]
        }
      ]
    },
    {
      "cell_type": "code",
      "metadata": {
        "_uuid": "4cb45e28344e7e245ab398e9f4f5272ef21d2129",
        "id": "jwuPgU6_cBE8"
      },
      "source": [
        "#Declare label as last column in the source file\n",
        "y = data.iloc[:,-1].values"
      ],
      "execution_count": 29,
      "outputs": []
    },
    {
      "cell_type": "code",
      "metadata": {
        "_uuid": "2e7a145fa49435ad9578ec2827f76a70cc99f2e1",
        "id": "2lhBrOp8cBFX"
      },
      "source": [
        "#Declaring X as all columns excluding last\n",
        "X = data.iloc[:,:-1].values"
      ],
      "execution_count": 30,
      "outputs": []
    },
    {
      "cell_type": "code",
      "metadata": {
        "_uuid": "dffb1f3e19e19964995ac827bf55108b5815ff67",
        "id": "t8nwbTn6cBFp"
      },
      "source": [
        "# Splitting data\n",
        "from sklearn.model_selection import train_test_split\n",
        "X_train, X_test, y_train, y_test = train_test_split(X, y, test_size = 0.25, random_state = 27)"
      ],
      "execution_count": 31,
      "outputs": []
    },
    {
      "cell_type": "code",
      "metadata": {
        "_uuid": "7d4ed14782e114ae3282f20d3754121398e6d232",
        "id": "U4bUiVVFcBGD"
      },
      "source": [
        "# Sacaling data\n",
        "from sklearn.preprocessing import StandardScaler\n",
        "sc = StandardScaler()\n",
        "X_train = sc.fit_transform(X_train)\n",
        "X_test = sc.transform(X_test)"
      ],
      "execution_count": 32,
      "outputs": []
    },
    {
      "cell_type": "code",
      "metadata": {
        "_uuid": "2ff7415e3e0e0673d59051cfe6154c63d3312a32",
        "colab": {
          "base_uri": "https://localhost:8080/"
        },
        "id": "W5yGgzqbcBGc",
        "outputId": "ad2d5b1c-c155-431e-d319-c54323ccbfa9"
      },
      "source": [
        "#Variabes to calculate sigmoid function\n",
        "y_pred = []\n",
        "len_x = len(X_train[0])\n",
        "w = []\n",
        "b = 0.2\n",
        "print(len_x)"
      ],
      "execution_count": 33,
      "outputs": [
        {
          "output_type": "stream",
          "name": "stdout",
          "text": [
            "2\n"
          ]
        }
      ]
    },
    {
      "cell_type": "code",
      "metadata": {
        "_uuid": "a228174207f4631be4f26a0cc05e379f3f58aa56",
        "colab": {
          "base_uri": "https://localhost:8080/"
        },
        "id": "ZbqwTM0bcBGr",
        "outputId": "fe0a2a1c-e513-4da5-dc8b-2f725f24200c"
      },
      "source": [
        "entries = len(X_train[:,0])\n",
        "entries"
      ],
      "execution_count": 34,
      "outputs": [
        {
          "output_type": "execute_result",
          "data": {
            "text/plain": [
              "300"
            ]
          },
          "metadata": {},
          "execution_count": 34
        }
      ]
    },
    {
      "cell_type": "code",
      "metadata": {
        "_uuid": "5d4d6e47ee65c9c7404e60fcf8f05c11708546b3",
        "colab": {
          "base_uri": "https://localhost:8080/"
        },
        "id": "vEV7Nn73cBG7",
        "outputId": "4796711d-ee4a-4ba6-f212-4a16e9c8f9b1"
      },
      "source": [
        "for weights in range(len_x):\n",
        "    w.append(0)\n",
        "w"
      ],
      "execution_count": 35,
      "outputs": [
        {
          "output_type": "execute_result",
          "data": {
            "text/plain": [
              "[0, 0]"
            ]
          },
          "metadata": {},
          "execution_count": 35
        }
      ]
    },
    {
      "cell_type": "code",
      "metadata": {
        "_uuid": "18dbd2196d72527a82d30ab88ed2aa8d10bd01ce",
        "id": "_fAtpylNcBHM"
      },
      "source": [
        "# Sigmoid function\n",
        "def sigmoid(z):\n",
        " return (1/(1+np.exp(-z)))"
      ],
      "execution_count": 36,
      "outputs": []
    },
    {
      "cell_type": "code",
      "metadata": {
        "_uuid": "daa0f87fdbf98591cb9f51b8dc7157dc399ca827",
        "id": "kfchkScTcBHd"
      },
      "source": [
        "\n",
        "def predict(inputs):\n",
        "    z = np.dot(w,inputs)+b\n",
        "    a = sigmoid(z)\n",
        "    return a"
      ],
      "execution_count": 37,
      "outputs": []
    },
    {
      "cell_type": "code",
      "metadata": {
        "_uuid": "4126f842d072ccd40019cc283b767a014e2ee074",
        "id": "K2ryTgglcBHt"
      },
      "source": [
        "#Loss function\n",
        "def loss_func(y,a):\n",
        "    J = -(y*np.log(a) + (1-y)*np.log(1-a))\n",
        "    return J         "
      ],
      "execution_count": 38,
      "outputs": []
    },
    {
      "cell_type": "code",
      "metadata": {
        "_uuid": "fc0ceb65c69f4ee0c3f28e050744229dc90c621b",
        "id": "1KW3eDpmcBIA"
      },
      "source": [
        "dw = []\n",
        "db = 0\n",
        "J = 0\n",
        "alpha = 0.1\n",
        "for x in range(len_x):\n",
        "    dw.append(0)"
      ],
      "execution_count": 39,
      "outputs": []
    },
    {
      "cell_type": "code",
      "metadata": {
        "_uuid": "e4be38e9b500ae0c5a7134296a3055675c4fb2d8",
        "id": "ipqdFLP3cBIO"
      },
      "source": [
        "#Repeating the process 3000 times\n",
        "for iterations in range(3000):\n",
        "    for i in range(entries):\n",
        "        localx = X_train[i]\n",
        "        a = predict(localx)   \n",
        "        dz = a - y_train[i]\n",
        "        J += loss_func(y_train[i],a)\n",
        "        for j in range(len_x):\n",
        "            dw[j] = dw[j]+(localx[j]*dz)\n",
        "        db += dz\n",
        "    J = J/entries\n",
        "    db = db/entries\n",
        "    for x in range(len_x):\n",
        "        dw[x]=dw[x]/entries\n",
        "    for x in range(len_x):\n",
        "        w[x] = w[x]-(alpha*dw[x])\n",
        "    b = b-(alpha*db)         \n",
        "    J=0"
      ],
      "execution_count": 40,
      "outputs": []
    },
    {
      "cell_type": "code",
      "metadata": {
        "_uuid": "5479ccb6073ed1ea310ef7de01b2935fc3ec400e",
        "colab": {
          "base_uri": "https://localhost:8080/"
        },
        "id": "7Q585AdrcBIs",
        "outputId": "8aa21bcc-faf0-47b2-de83-1f9167358f1a"
      },
      "source": [
        "#Print weight\n",
        "print(w)"
      ],
      "execution_count": 41,
      "outputs": [
        {
          "output_type": "stream",
          "name": "stdout",
          "text": [
            "[2.2903373635388946, 1.215343716121365]\n"
          ]
        }
      ]
    },
    {
      "cell_type": "code",
      "metadata": {
        "_uuid": "a939c247b8a092f74c9843975612daa85c423621",
        "colab": {
          "base_uri": "https://localhost:8080/"
        },
        "id": "rEiF-bNHcBJB",
        "outputId": "8174511c-ea29-4525-8c14-a7fffbf73e96"
      },
      "source": [
        "#print bias\n",
        "print(b)"
      ],
      "execution_count": 42,
      "outputs": [
        {
          "output_type": "stream",
          "name": "stdout",
          "text": [
            "-1.0867096749282728\n"
          ]
        }
      ]
    },
    {
      "cell_type": "code",
      "metadata": {
        "_uuid": "b7ae24169a21c7ac8ea0787f4a38a0de3e07a6b5",
        "id": "MPt5nUcpcBJR"
      },
      "source": [
        "#predicting the label\n",
        "for x in range(len(y_test)):\n",
        "    y_pred.append(predict(X_test[x]))"
      ],
      "execution_count": 43,
      "outputs": []
    },
    {
      "cell_type": "code",
      "metadata": {
        "_uuid": "967ad1b72305ad792a5d50e4d8b8a07632f7b241",
        "colab": {
          "base_uri": "https://localhost:8080/"
        },
        "id": "79HPPz7jcBJg",
        "outputId": "f5749631-c981-4b0f-f43b-6001c9848c50"
      },
      "source": [
        "#print actual and predicted values in a table\n",
        "for x in range(len(y_pred)):\n",
        "    print('Actual ',y_test[x],' Predicted ',y_pred[x])\n",
        "    if y_pred[x]>=0.5:\n",
        "        y_pred[x]=1\n",
        "    else:\n",
        "        y_pred[x]=0"
      ],
      "execution_count": 44,
      "outputs": [
        {
          "output_type": "stream",
          "name": "stdout",
          "text": [
            "Actual  0  Predicted  0.00818086877217513\n",
            "Actual  1  Predicted  0.5542636189832674\n",
            "Actual  0  Predicted  0.2339592680436752\n",
            "Actual  0  Predicted  0.01267758944192255\n",
            "Actual  0  Predicted  0.17719006774682702\n",
            "Actual  0  Predicted  0.14745755384201992\n",
            "Actual  0  Predicted  0.09451266277243635\n",
            "Actual  0  Predicted  0.020534128847945216\n",
            "Actual  0  Predicted  0.001039729527224869\n",
            "Actual  1  Predicted  0.9358173607833707\n",
            "Actual  1  Predicted  0.6364338227773089\n",
            "Actual  0  Predicted  0.3322622255270112\n",
            "Actual  0  Predicted  0.2406676855874026\n",
            "Actual  0  Predicted  0.029595353422835393\n",
            "Actual  0  Predicted  0.10717056813643033\n",
            "Actual  0  Predicted  0.4222324277292049\n",
            "Actual  0  Predicted  0.33438041121990786\n",
            "Actual  1  Predicted  0.9285967614573605\n",
            "Actual  0  Predicted  0.10556045708100532\n",
            "Actual  1  Predicted  0.5817945207855977\n",
            "Actual  0  Predicted  0.5864256296761419\n",
            "Actual  0  Predicted  0.0024633870507476383\n",
            "Actual  1  Predicted  0.3605401381641205\n",
            "Actual  0  Predicted  0.8216671796992316\n",
            "Actual  0  Predicted  0.3825377340499728\n",
            "Actual  0  Predicted  0.08878509262774614\n",
            "Actual  0  Predicted  0.027681575027201234\n",
            "Actual  1  Predicted  0.8089166198947375\n",
            "Actual  0  Predicted  0.28402988127571765\n",
            "Actual  1  Predicted  0.7951354758758771\n",
            "Actual  0  Predicted  0.030333884478864908\n",
            "Actual  0  Predicted  0.6676466132067649\n",
            "Actual  0  Predicted  0.005733802049388255\n",
            "Actual  0  Predicted  0.696337637683573\n",
            "Actual  0  Predicted  0.705438004499527\n",
            "Actual  0  Predicted  0.05586814097596665\n",
            "Actual  1  Predicted  0.9926475528363493\n",
            "Actual  0  Predicted  0.2012022608787497\n",
            "Actual  0  Predicted  0.07081664543769772\n",
            "Actual  0  Predicted  0.12437766735140418\n",
            "Actual  0  Predicted  0.008380804100408045\n",
            "Actual  1  Predicted  0.8629524791211768\n",
            "Actual  0  Predicted  0.05586814097596665\n",
            "Actual  0  Predicted  0.10318530268638229\n",
            "Actual  1  Predicted  0.35010988503031537\n",
            "Actual  1  Predicted  0.90417623115202\n",
            "Actual  1  Predicted  0.35566967179110637\n",
            "Actual  1  Predicted  0.4801054468827007\n",
            "Actual  1  Predicted  0.5755996358899169\n",
            "Actual  0  Predicted  0.005825031546112662\n",
            "Actual  0  Predicted  0.3539739151105854\n",
            "Actual  1  Predicted  0.2189409959134473\n",
            "Actual  1  Predicted  0.9965488248133595\n",
            "Actual  0  Predicted  0.3208535462313257\n",
            "Actual  0  Predicted  0.010059212033687369\n",
            "Actual  0  Predicted  0.41373235990621365\n",
            "Actual  0  Predicted  0.012389418714943798\n",
            "Actual  1  Predicted  0.7665378629313622\n",
            "Actual  0  Predicted  0.03412768680396409\n",
            "Actual  1  Predicted  0.9501984355101393\n",
            "Actual  1  Predicted  0.5453522764024649\n",
            "Actual  0  Predicted  0.21875940018531384\n",
            "Actual  1  Predicted  0.8744219169327843\n",
            "Actual  0  Predicted  0.04037949882124568\n",
            "Actual  1  Predicted  0.9837415856279097\n",
            "Actual  0  Predicted  0.0034316475723445376\n",
            "Actual  1  Predicted  0.23835104517400935\n",
            "Actual  0  Predicted  0.0582025880279945\n",
            "Actual  0  Predicted  0.06277400984521433\n",
            "Actual  0  Predicted  0.0086127510051106\n",
            "Actual  0  Predicted  0.02373730810287185\n",
            "Actual  1  Predicted  0.32432311631204597\n",
            "Actual  1  Predicted  0.9717318750196788\n",
            "Actual  0  Predicted  0.02938335242017738\n",
            "Actual  0  Predicted  0.01852849344023303\n",
            "Actual  0  Predicted  0.3367425032491192\n",
            "Actual  1  Predicted  0.9113534462233994\n",
            "Actual  0  Predicted  0.40120708965724783\n",
            "Actual  0  Predicted  0.007754110435298539\n",
            "Actual  0  Predicted  0.011158504413438408\n",
            "Actual  0  Predicted  0.11404317539976086\n",
            "Actual  1  Predicted  0.8662994441623104\n",
            "Actual  1  Predicted  0.6166188054900275\n",
            "Actual  1  Predicted  0.23835104517400935\n",
            "Actual  0  Predicted  0.010790806951244961\n",
            "Actual  0  Predicted  0.136998937601398\n",
            "Actual  1  Predicted  0.3681402073651001\n",
            "Actual  0  Predicted  0.3322622255270112\n",
            "Actual  1  Predicted  0.5524328174971402\n",
            "Actual  0  Predicted  0.263203708211565\n",
            "Actual  0  Predicted  0.2911887495618996\n",
            "Actual  1  Predicted  0.8825562826909934\n",
            "Actual  0  Predicted  0.37630481616371614\n",
            "Actual  0  Predicted  0.03752705637649624\n",
            "Actual  1  Predicted  0.8466722794737485\n",
            "Actual  0  Predicted  0.11850335431489027\n",
            "Actual  1  Predicted  0.2859722696809623\n",
            "Actual  1  Predicted  0.9973660800871526\n",
            "Actual  0  Predicted  0.10983378299083753\n",
            "Actual  0  Predicted  0.02124878696987353\n"
          ]
        }
      ]
    },
    {
      "cell_type": "code",
      "metadata": {
        "_uuid": "a59807150900082ab876ef0200c6c7f8f93e098c",
        "colab": {
          "base_uri": "https://localhost:8080/"
        },
        "id": "sdZDj_iVcBJt",
        "outputId": "8fe5d307-9927-40af-ddad-8cb82f38dd15"
      },
      "source": [
        "# Calculating accuracy of prediction\n",
        "count = 0\n",
        "for x in range(len(y_pred)):\n",
        "    if(y_pred[x]==y_test[x]):\n",
        "        count=count+1\n",
        "print('Accuracy:',(count/(len(y_pred)))*100)"
      ],
      "execution_count": 45,
      "outputs": [
        {
          "output_type": "stream",
          "name": "stdout",
          "text": [
            "Accuracy: 85.0\n"
          ]
        }
      ]
    },
    {
      "cell_type": "markdown",
      "metadata": {
        "id": "x6nmajpzhAEn"
      },
      "source": [
        "#Using sklearn LogisticRegression model"
      ]
    },
    {
      "cell_type": "code",
      "metadata": {
        "_kg_hide-output": true,
        "_uuid": "9aaade066015e04f20dd7eb1d37339be75ca3836",
        "colab": {
          "base_uri": "https://localhost:8080/"
        },
        "id": "iG-BK4i9cBKH",
        "outputId": "ac161587-0165-4978-e0be-e325d069966c"
      },
      "source": [
        "# Fitting Logistic Regression to the Training set\n",
        "from sklearn.linear_model import LogisticRegression\n",
        "LR = LogisticRegression(random_state = 27)\n",
        "\n",
        "#Fit\n",
        "LR.fit(X_train, y_train)\n",
        "#predicting the test label with LR. Predict always takes X as input\n",
        "y_predLR=LR.predict(X_test)\n",
        "for x in range(len(y_pred)):\n",
        "    print('Actual ',y_test[x],' Predicted ',y_predLR[x])\n",
        "    if y_predLR[x]>=0.5:\n",
        "        y_predLR[x]=1\n",
        "    else:\n",
        "        y_predLR[x]=0\n",
        "\n",
        "count = 0\n",
        "for x in range(len(y_pred)):\n",
        "    if(y_pred[x]==y_test[x]):\n",
        "        count=count+1\n",
        "print('Accuracy:',(count/(len(y_pred)))*100)\n"
      ],
      "execution_count": 46,
      "outputs": [
        {
          "output_type": "stream",
          "name": "stdout",
          "text": [
            "Actual  0  Predicted  0\n",
            "Actual  1  Predicted  1\n",
            "Actual  0  Predicted  0\n",
            "Actual  0  Predicted  0\n",
            "Actual  0  Predicted  0\n",
            "Actual  0  Predicted  0\n",
            "Actual  0  Predicted  0\n",
            "Actual  0  Predicted  0\n",
            "Actual  0  Predicted  0\n",
            "Actual  1  Predicted  1\n",
            "Actual  1  Predicted  1\n",
            "Actual  0  Predicted  0\n",
            "Actual  0  Predicted  0\n",
            "Actual  0  Predicted  0\n",
            "Actual  0  Predicted  0\n",
            "Actual  0  Predicted  0\n",
            "Actual  0  Predicted  0\n",
            "Actual  1  Predicted  1\n",
            "Actual  0  Predicted  0\n",
            "Actual  1  Predicted  1\n",
            "Actual  0  Predicted  1\n",
            "Actual  0  Predicted  0\n",
            "Actual  1  Predicted  0\n",
            "Actual  0  Predicted  1\n",
            "Actual  0  Predicted  0\n",
            "Actual  0  Predicted  0\n",
            "Actual  0  Predicted  0\n",
            "Actual  1  Predicted  1\n",
            "Actual  0  Predicted  0\n",
            "Actual  1  Predicted  1\n",
            "Actual  0  Predicted  0\n",
            "Actual  0  Predicted  1\n",
            "Actual  0  Predicted  0\n",
            "Actual  0  Predicted  1\n",
            "Actual  0  Predicted  1\n",
            "Actual  0  Predicted  0\n",
            "Actual  1  Predicted  1\n",
            "Actual  0  Predicted  0\n",
            "Actual  0  Predicted  0\n",
            "Actual  0  Predicted  0\n",
            "Actual  0  Predicted  0\n",
            "Actual  1  Predicted  1\n",
            "Actual  0  Predicted  0\n",
            "Actual  0  Predicted  0\n",
            "Actual  1  Predicted  0\n",
            "Actual  1  Predicted  1\n",
            "Actual  1  Predicted  0\n",
            "Actual  1  Predicted  0\n",
            "Actual  1  Predicted  1\n",
            "Actual  0  Predicted  0\n",
            "Actual  0  Predicted  0\n",
            "Actual  1  Predicted  0\n",
            "Actual  1  Predicted  1\n",
            "Actual  0  Predicted  0\n",
            "Actual  0  Predicted  0\n",
            "Actual  0  Predicted  0\n",
            "Actual  0  Predicted  0\n",
            "Actual  1  Predicted  1\n",
            "Actual  0  Predicted  0\n",
            "Actual  1  Predicted  1\n",
            "Actual  1  Predicted  1\n",
            "Actual  0  Predicted  0\n",
            "Actual  1  Predicted  1\n",
            "Actual  0  Predicted  0\n",
            "Actual  1  Predicted  1\n",
            "Actual  0  Predicted  0\n",
            "Actual  1  Predicted  0\n",
            "Actual  0  Predicted  0\n",
            "Actual  0  Predicted  0\n",
            "Actual  0  Predicted  0\n",
            "Actual  0  Predicted  0\n",
            "Actual  1  Predicted  0\n",
            "Actual  1  Predicted  1\n",
            "Actual  0  Predicted  0\n",
            "Actual  0  Predicted  0\n",
            "Actual  0  Predicted  0\n",
            "Actual  1  Predicted  1\n",
            "Actual  0  Predicted  0\n",
            "Actual  0  Predicted  0\n",
            "Actual  0  Predicted  0\n",
            "Actual  0  Predicted  0\n",
            "Actual  1  Predicted  1\n",
            "Actual  1  Predicted  1\n",
            "Actual  1  Predicted  0\n",
            "Actual  0  Predicted  0\n",
            "Actual  0  Predicted  0\n",
            "Actual  1  Predicted  0\n",
            "Actual  0  Predicted  0\n",
            "Actual  1  Predicted  1\n",
            "Actual  0  Predicted  0\n",
            "Actual  0  Predicted  0\n",
            "Actual  1  Predicted  1\n",
            "Actual  0  Predicted  0\n",
            "Actual  0  Predicted  0\n",
            "Actual  1  Predicted  1\n",
            "Actual  0  Predicted  0\n",
            "Actual  1  Predicted  0\n",
            "Actual  1  Predicted  1\n",
            "Actual  0  Predicted  0\n",
            "Actual  0  Predicted  0\n",
            "Accuracy: 85.0\n"
          ]
        }
      ]
    },
    {
      "cell_type": "code",
      "metadata": {
        "colab": {
          "base_uri": "https://localhost:8080/"
        },
        "id": "vGRcb_ECmrt1",
        "outputId": "e7f6d838-344a-4c0d-afd6-6dbc0ab995cd"
      },
      "source": [
        "#Exercise Problem\n",
        "\n",
        "# Fitting Logistic Regression to the Training set\n",
        "from sklearn.linear_model import LogisticRegression\n",
        "LR = LogisticRegression(random_state = 27)\n",
        "\n",
        "#Fit\n",
        "LR.fit(X_train, y_train)\n",
        "#predicting the test label with LR. Predict always takes X as input\n",
        "y_predLR=LR.predict(X_test)\n",
        "for x in range(len(y_pred)):\n",
        "    print('Actual ',y_test[x],' Predicted ',y_predLR[x])\n",
        "    if y_predLR[x]>=0.5:\n",
        "        y_predLR[x]=1\n",
        "    else:\n",
        "        y_predLR[x]=0\n",
        "\n",
        "count = 0\n",
        "for x in range(len(y_pred)):\n",
        "    if(y_pred[x]==y_test[x]):\n",
        "        count=count+1\n",
        "print('Accuracy:',(count/(len(y_pred)))*100)"
      ],
      "execution_count": 47,
      "outputs": [
        {
          "output_type": "stream",
          "name": "stdout",
          "text": [
            "Actual  0  Predicted  0\n",
            "Actual  1  Predicted  1\n",
            "Actual  0  Predicted  0\n",
            "Actual  0  Predicted  0\n",
            "Actual  0  Predicted  0\n",
            "Actual  0  Predicted  0\n",
            "Actual  0  Predicted  0\n",
            "Actual  0  Predicted  0\n",
            "Actual  0  Predicted  0\n",
            "Actual  1  Predicted  1\n",
            "Actual  1  Predicted  1\n",
            "Actual  0  Predicted  0\n",
            "Actual  0  Predicted  0\n",
            "Actual  0  Predicted  0\n",
            "Actual  0  Predicted  0\n",
            "Actual  0  Predicted  0\n",
            "Actual  0  Predicted  0\n",
            "Actual  1  Predicted  1\n",
            "Actual  0  Predicted  0\n",
            "Actual  1  Predicted  1\n",
            "Actual  0  Predicted  1\n",
            "Actual  0  Predicted  0\n",
            "Actual  1  Predicted  0\n",
            "Actual  0  Predicted  1\n",
            "Actual  0  Predicted  0\n",
            "Actual  0  Predicted  0\n",
            "Actual  0  Predicted  0\n",
            "Actual  1  Predicted  1\n",
            "Actual  0  Predicted  0\n",
            "Actual  1  Predicted  1\n",
            "Actual  0  Predicted  0\n",
            "Actual  0  Predicted  1\n",
            "Actual  0  Predicted  0\n",
            "Actual  0  Predicted  1\n",
            "Actual  0  Predicted  1\n",
            "Actual  0  Predicted  0\n",
            "Actual  1  Predicted  1\n",
            "Actual  0  Predicted  0\n",
            "Actual  0  Predicted  0\n",
            "Actual  0  Predicted  0\n",
            "Actual  0  Predicted  0\n",
            "Actual  1  Predicted  1\n",
            "Actual  0  Predicted  0\n",
            "Actual  0  Predicted  0\n",
            "Actual  1  Predicted  0\n",
            "Actual  1  Predicted  1\n",
            "Actual  1  Predicted  0\n",
            "Actual  1  Predicted  0\n",
            "Actual  1  Predicted  1\n",
            "Actual  0  Predicted  0\n",
            "Actual  0  Predicted  0\n",
            "Actual  1  Predicted  0\n",
            "Actual  1  Predicted  1\n",
            "Actual  0  Predicted  0\n",
            "Actual  0  Predicted  0\n",
            "Actual  0  Predicted  0\n",
            "Actual  0  Predicted  0\n",
            "Actual  1  Predicted  1\n",
            "Actual  0  Predicted  0\n",
            "Actual  1  Predicted  1\n",
            "Actual  1  Predicted  1\n",
            "Actual  0  Predicted  0\n",
            "Actual  1  Predicted  1\n",
            "Actual  0  Predicted  0\n",
            "Actual  1  Predicted  1\n",
            "Actual  0  Predicted  0\n",
            "Actual  1  Predicted  0\n",
            "Actual  0  Predicted  0\n",
            "Actual  0  Predicted  0\n",
            "Actual  0  Predicted  0\n",
            "Actual  0  Predicted  0\n",
            "Actual  1  Predicted  0\n",
            "Actual  1  Predicted  1\n",
            "Actual  0  Predicted  0\n",
            "Actual  0  Predicted  0\n",
            "Actual  0  Predicted  0\n",
            "Actual  1  Predicted  1\n",
            "Actual  0  Predicted  0\n",
            "Actual  0  Predicted  0\n",
            "Actual  0  Predicted  0\n",
            "Actual  0  Predicted  0\n",
            "Actual  1  Predicted  1\n",
            "Actual  1  Predicted  1\n",
            "Actual  1  Predicted  0\n",
            "Actual  0  Predicted  0\n",
            "Actual  0  Predicted  0\n",
            "Actual  1  Predicted  0\n",
            "Actual  0  Predicted  0\n",
            "Actual  1  Predicted  1\n",
            "Actual  0  Predicted  0\n",
            "Actual  0  Predicted  0\n",
            "Actual  1  Predicted  1\n",
            "Actual  0  Predicted  0\n",
            "Actual  0  Predicted  0\n",
            "Actual  1  Predicted  1\n",
            "Actual  0  Predicted  0\n",
            "Actual  1  Predicted  0\n",
            "Actual  1  Predicted  1\n",
            "Actual  0  Predicted  0\n",
            "Actual  0  Predicted  0\n",
            "Accuracy: 85.0\n"
          ]
        }
      ]
    },
    {
      "cell_type": "markdown",
      "metadata": {
        "id": "Y8sYVBu-iSW-"
      },
      "source": [
        "**Exercise:**\n",
        "\n",
        "Try logistic regression on BuyComputer dataset and set Random state=Your_RollNumber (last 3 digit of ID, incase if you don't have ID)"
      ]
    }
  ]
}